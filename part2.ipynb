{
 "cells": [
  {
   "cell_type": "code",
   "execution_count": 1,
   "id": "674bb8ff-ec17-4ecc-bcc6-ce563b98aa49",
   "metadata": {},
   "outputs": [],
   "source": [
    "import numpy as np\n",
    "from collections import namedtuple\n",
    "from fractions import Fraction\n",
    "from scipy.optimize import linprog\n",
    "import matplotlib.pyplot as plt\n",
    "import seaborn as sns\n",
    "\n",
    "Item = namedtuple('Item', ('value', 'weight', 'ratio'))"
   ]
  },
  {
   "cell_type": "code",
   "execution_count": 2,
   "id": "7d86827d-bfaa-4543-9760-23180c68c11e",
   "metadata": {},
   "outputs": [],
   "source": [
    "# Fast, but Approximate result\n",
    "# def knapsack_greedy(values, weights, W, n):\n",
    "#     total_value = 0\n",
    "#     values, weights = zip(*sorted(zip(values, weights), key=lambda t: t[0]/t[1], reverse=True))\n",
    "#     for value, weight in zip(values, weights):\n",
    "#         if W - weight > 0:\n",
    "#             total_value += value\n",
    "#             W -= weight\n",
    "#     return total_value"
   ]
  },
  {
   "cell_type": "markdown",
   "id": "107a677c-464d-496b-a109-f308dfdae44c",
   "metadata": {},
   "source": [
    "## Implementation of offline knapsack and online knapsack"
   ]
  },
  {
   "cell_type": "code",
   "execution_count": 3,
   "id": "177a870d-344e-4e8a-b0df-1b63ac4711af",
   "metadata": {
    "tags": []
   },
   "outputs": [],
   "source": [
    "# using linear programming\n",
    "def offline_knapsack(items, max_weight):\n",
    "    # construct the objective function: maximize the sum of the values of the items\n",
    "    objective = np.array([-item.value for item in items])\n",
    "    \n",
    "    # construct the constraints:\n",
    "    # - the sum of the weights of the items must be less than or equal to the maximum weight\n",
    "    # - all weights and values must be non-negative\n",
    "    constraints = np.array([[item.weight for item in items]])\n",
    "    b_ub = np.array([max_weight])\n",
    "    bounds = bounds = [(0, 1),] * len(items)\n",
    "\n",
    "    \n",
    "    result = linprog(\n",
    "        c=objective,\n",
    "        A_ub=constraints,\n",
    "        b_ub=b_ub,\n",
    "        bounds=bounds,\n",
    "        method=\"HiGHS\",\n",
    "    )\n",
    "    \n",
    "    # return the maximum value that can be obtained\n",
    "    return result.fun\n",
    "\n",
    "\n",
    "# Implementation of the online threshold algorithm in the slides\n",
    "def online_knapsack(items, p_min, p_max, max_weight):\n",
    "    total_value = 0\n",
    "    y = 0\n",
    "    beta = max_weight / (1 + np.log(p_max / p_min))\n",
    "    # print(f\"beta: {beta}\")\n",
    "    for item in items:\n",
    "        threshold = p_min if y < beta else p_min * np.exp(y/beta-1)\n",
    "        # print(threshold)\n",
    "        if item.ratio > threshold and y + item.weight <= max_weight:\n",
    "            y += item.weight\n",
    "            total_value += item.value\n",
    "        \n",
    "    return total_value"
   ]
  },
  {
   "cell_type": "code",
   "execution_count": 4,
   "id": "a20dba2a-0538-4e6f-8407-5e3f277bee05",
   "metadata": {},
   "outputs": [],
   "source": [
    "def test(n=5000, epsilon=0.05, max_weight=1, p_min=1, p_max=10, adverserial=False):\n",
    "    \n",
    "    offline_results = []\n",
    "    online_results = []\n",
    "    for i in range(100):\n",
    "\n",
    "        weights = np.random.uniform(0, epsilon, n)\n",
    "        values = np.random.uniform(p_min, p_max, n) * weights\n",
    "        items = []\n",
    "        for value, weight in zip(values, weights):\n",
    "            item = Item(value, weight, value/weight)\n",
    "            items.append(item)\n",
    "    \n",
    "        if adverserial:\n",
    "            items = sorted(items, key=lambda item: item.ratio)\n",
    "    \n",
    "        offline = -offline_knapsack(items, max_weight)\n",
    "        online = online_knapsack(items, p_min, p_max, max_weight)\n",
    "    \n",
    "        offline_results.append(offline)\n",
    "        online_results.append(online)\n",
    "    \n",
    "    return np.mean(offline_results), np.mean(online_results)"
   ]
  },
  {
   "cell_type": "markdown",
   "id": "67301ccc-ffd6-4b91-9a46-42f492b21656",
   "metadata": {},
   "source": [
    "## Infinitesimal settings"
   ]
  },
  {
   "cell_type": "markdown",
   "id": "0bd20f74-a106-4b75-aca9-51045f516db7",
   "metadata": {
    "tags": []
   },
   "source": [
    "Assumption 1: each item’s weight is very small $w_t$ → 0.<br />\n",
    "Assumption 2: the value density of each item is bounded: $$\\forall t \\quad \\rho_{min} \\leq {v_t \\over w_t} \\leq \\rho_{max}$$\n",
    "\n",
    "$\\rho_{min}, \\rho_{max}$ should not be too big or too small\n",
    "\n",
    "$\\alpha = 1 + np.log({p_{max} \\over p_{min}})$<br />\n",
    "$\\beta = {1 \\over \\alpha}$"
   ]
  },
  {
   "cell_type": "code",
   "execution_count": 5,
   "id": "ee6d1ed0-d4e6-46c5-b8c6-60da69b2c6df",
   "metadata": {},
   "outputs": [
    {
     "name": "stdout",
     "output_type": "stream",
     "text": [
      "alpha: 2.6094379124341005\n",
      "beta:  0.383224293337255\n"
     ]
    }
   ],
   "source": [
    "p_min = 1\n",
    "p_max = 5\n",
    "\n",
    "alpha = 1 + np.log(p_max / p_min)\n",
    "print(f\"alpha: {alpha}\")\n",
    "print(f\"beta:  {1 / alpha}\")\n",
    "\n",
    "n = 2500\n",
    "max_weight = 1\n",
    "epsilon = 0.02"
   ]
  },
  {
   "cell_type": "code",
   "execution_count": 6,
   "id": "f01729d1-018c-48f6-bdf4-b27be6b50162",
   "metadata": {},
   "outputs": [
    {
     "name": "stdout",
     "output_type": "stream",
     "text": [
      "Opt / Alg: 1.4283166101103393 | offline_average: 4.920760600771931 | online_average: 3.4451469414696483\n"
     ]
    }
   ],
   "source": [
    "offline_avg, online_avg = test(n=n, epsilon=epsilon, max_weight=max_weight, p_min=p_min, p_max=p_max, adverserial=False)\n",
    "print(f\"Opt / Alg: {offline_avg / online_avg} | offline_average: {offline_avg} | online_average: {online_avg}\")"
   ]
  },
  {
   "cell_type": "code",
   "execution_count": 7,
   "id": "a79b31af-a8fd-459d-aebd-80b648634236",
   "metadata": {},
   "outputs": [
    {
     "name": "stdout",
     "output_type": "stream",
     "text": [
      "Opt / Alg: 2.5888289674406093 | offline_average: 4.919832462791187 | online_average: 1.9004084567452422\n"
     ]
    }
   ],
   "source": [
    "offline_avg, online_avg = test(n=n, epsilon=epsilon, max_weight=max_weight, p_min=p_min, p_max=p_max, adverserial=True)\n",
    "print(f\"Opt / Alg: {offline_avg / online_avg} | offline_average: {offline_avg} | online_average: {online_avg}\")"
   ]
  },
  {
   "cell_type": "markdown",
   "id": "77964a54-bc2b-434e-9201-6699cc071b6c",
   "metadata": {},
   "source": [
    "## When the weight of each item is not infinitesimal"
   ]
  },
  {
   "cell_type": "code",
   "execution_count": 8,
   "id": "66a40d39-0c7b-4830-8931-37870b9dd4cb",
   "metadata": {},
   "outputs": [
    {
     "name": "stdout",
     "output_type": "stream",
     "text": [
      "alpha: 2.6094379124341005\n",
      "beta:  0.383224293337255\n"
     ]
    }
   ],
   "source": [
    "p_min = 1\n",
    "p_max = 5\n",
    "\n",
    "alpha = 1 + np.log(p_max / p_min)\n",
    "print(f\"alpha: {alpha}\")\n",
    "print(f\"beta:  {1 / alpha}\")\n",
    "\n",
    "n = 2500\n",
    "max_weight = 100\n",
    "epsilon = 20"
   ]
  },
  {
   "cell_type": "code",
   "execution_count": 9,
   "id": "943472de-3bb8-4f3a-a6e8-133511850b61",
   "metadata": {},
   "outputs": [
    {
     "name": "stdout",
     "output_type": "stream",
     "text": [
      "Opt / Alg: 1.4978429210751478 | offline_average: 499.10943537042374 | online_average: 333.2188097615498\n"
     ]
    }
   ],
   "source": [
    "offline_avg, online_avg = test(n=n, epsilon=epsilon, max_weight=max_weight, p_min=p_min, p_max=p_max, adverserial=False)\n",
    "print(f\"Opt / Alg: {offline_avg / online_avg} | offline_average: {offline_avg} | online_average: {online_avg}\")"
   ]
  },
  {
   "cell_type": "code",
   "execution_count": 10,
   "id": "dc03e60d-0de0-41b9-81d3-d16342ae2ac2",
   "metadata": {},
   "outputs": [
    {
     "name": "stdout",
     "output_type": "stream",
     "text": [
      "Opt / Alg: 2.950358308583454 | offline_average: 499.1377983667121 | online_average: 169.17870514729498\n"
     ]
    }
   ],
   "source": [
    "offline_avg, online_avg = test(n=n, epsilon=epsilon, max_weight=max_weight, p_min=p_min, p_max=p_max, adverserial=True)\n",
    "print(f\"Opt / Alg: {offline_avg / online_avg} | offline_average: {offline_avg} | online_average: {online_avg}\")"
   ]
  }
 ],
 "metadata": {
  "kernelspec": {
   "display_name": "Python 3 (ipykernel)",
   "language": "python",
   "name": "python3"
  },
  "language_info": {
   "codemirror_mode": {
    "name": "ipython",
    "version": 3
   },
   "file_extension": ".py",
   "mimetype": "text/x-python",
   "name": "python",
   "nbconvert_exporter": "python",
   "pygments_lexer": "ipython3",
   "version": "3.10.8"
  }
 },
 "nbformat": 4,
 "nbformat_minor": 5
}
